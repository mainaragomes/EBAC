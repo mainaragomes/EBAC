{
  "nbformat": 4,
  "nbformat_minor": 0,
  "metadata": {
    "colab": {
      "provenance": []
    },
    "kernelspec": {
      "name": "python3",
      "display_name": "Python 3"
    },
    "language_info": {
      "name": "python"
    }
  },
  "cells": [
    {
      "cell_type": "markdown",
      "source": [
        "**EXERCÍCIO 1**\n",
        "\n",
        "Crie uma lista chamada filmes com o nome dos 10 primeiros filmes mais bem avaliados no site no IMDB. Imprima o resultado."
      ],
      "metadata": {
        "id": "Wj80soZ1C5Rw"
      }
    },
    {
      "cell_type": "code",
      "execution_count": 21,
      "metadata": {
        "colab": {
          "base_uri": "https://localhost:8080/"
        },
        "id": "30SpO270C3bu",
        "outputId": "4e7c8f54-7709-4f51-99f6-38ad545aaa03"
      },
      "outputs": [
        {
          "output_type": "stream",
          "name": "stdout",
          "text": [
            "['Um sonho de Liberdade', 'O Poderoso Chefão', 'Batman: O cavaleiro das trevas', 'O Poderoso Chefão 2', '12 Homens e uma Sentença', 'A Lista de Schindler', 'O Senhor dos Anéis: O Retorno do Rei', 'Pulp Fiction: Tempo de Violência', 'O Senhor dos Anéis: A Sociedade do Anel', 'Três Homens em Conflito']\n"
          ]
        }
      ],
      "source": [
        "filmes = [\n",
        "    'Um sonho de Liberdade',\n",
        "    'O Poderoso Chefão',\n",
        "    'Batman: O cavaleiro das trevas',\n",
        "    'O Poderoso Chefão 2',\n",
        "    '12 Homens e uma Sentença',\n",
        "    'A Lista de Schindler',\n",
        "    'O Senhor dos Anéis: O Retorno do Rei',\n",
        "    'Pulp Fiction: Tempo de Violência',\n",
        "    'O Senhor dos Anéis: A Sociedade do Anel',\n",
        "    'Três Homens em Conflito'\n",
        "    ]\n",
        "\n",
        "print(filmes)"
      ]
    },
    {
      "cell_type": "markdown",
      "source": [
        "Simule a movimentação do ranking. Utilize os métodos insert e pop para trocar a posição do primeiro e do segundo filme da lista. Imprima o resultado."
      ],
      "metadata": {
        "id": "R7zkpZB-DA47"
      }
    },
    {
      "cell_type": "code",
      "source": [
        "filmes.insert(0,'Matrix')\n",
        "\n",
        "print(filmes)"
      ],
      "metadata": {
        "colab": {
          "base_uri": "https://localhost:8080/"
        },
        "id": "CXiib1maDEMG",
        "outputId": "f762733f-9b0c-4cc6-eead-1c867c34d7c9"
      },
      "execution_count": 3,
      "outputs": [
        {
          "output_type": "stream",
          "name": "stdout",
          "text": [
            "['Matrix', 'Um sonho de Liberdade', 'O Poderoso Chefão', 'Batman: O cavaleiro das trevas', 'O Poderoso Chefão 2', '12 Homens e uma Sentença', 'A Lista de Schindler', 'O Senhor dos Anéis: O Retorno do Rei', 'Pulp Fiction: Tempo de Violência', 'O Senhor dos Anéis: A Sociedade do Anel', 'Três Homens em Conflito']\n"
          ]
        }
      ]
    },
    {
      "cell_type": "code",
      "source": [
        "filmes.insert(2,'Interestelar')\n",
        "\n",
        "print(filmes)"
      ],
      "metadata": {
        "colab": {
          "base_uri": "https://localhost:8080/"
        },
        "id": "WcSHZ71sDRq3",
        "outputId": "ae6b0f5f-96d3-4ad5-bf88-913df8da51cf"
      },
      "execution_count": 4,
      "outputs": [
        {
          "output_type": "stream",
          "name": "stdout",
          "text": [
            "['Matrix', 'Um sonho de Liberdade', 'Interestelar', 'O Poderoso Chefão', 'Batman: O cavaleiro das trevas', 'O Poderoso Chefão 2', '12 Homens e uma Sentença', 'A Lista de Schindler', 'O Senhor dos Anéis: O Retorno do Rei', 'Pulp Fiction: Tempo de Violência', 'O Senhor dos Anéis: A Sociedade do Anel', 'Três Homens em Conflito']\n"
          ]
        }
      ]
    },
    {
      "cell_type": "code",
      "source": [
        "segundo_filme = filmes.pop(1)\n",
        "\n",
        "print(filmes)"
      ],
      "metadata": {
        "colab": {
          "base_uri": "https://localhost:8080/"
        },
        "id": "8l7xowabDZ_c",
        "outputId": "4c63dfe4-abee-4bbf-a519-f44e7bead426"
      },
      "execution_count": 5,
      "outputs": [
        {
          "output_type": "stream",
          "name": "stdout",
          "text": [
            "['Matrix', 'Interestelar', 'O Poderoso Chefão', 'Batman: O cavaleiro das trevas', 'O Poderoso Chefão 2', '12 Homens e uma Sentença', 'A Lista de Schindler', 'O Senhor dos Anéis: O Retorno do Rei', 'Pulp Fiction: Tempo de Violência', 'O Senhor dos Anéis: A Sociedade do Anel', 'Três Homens em Conflito']\n"
          ]
        }
      ]
    },
    {
      "cell_type": "code",
      "source": [
        "terceiro_filme = filmes.pop(2)\n",
        "\n",
        "print(filmes)"
      ],
      "metadata": {
        "colab": {
          "base_uri": "https://localhost:8080/"
        },
        "id": "CDpBX4oQDtpL",
        "outputId": "2e36f739-84f2-44de-b997-0917392f2bcb"
      },
      "execution_count": 6,
      "outputs": [
        {
          "output_type": "stream",
          "name": "stdout",
          "text": [
            "['Matrix', 'Interestelar', 'Batman: O cavaleiro das trevas', 'O Poderoso Chefão 2', '12 Homens e uma Sentença', 'A Lista de Schindler', 'O Senhor dos Anéis: O Retorno do Rei', 'Pulp Fiction: Tempo de Violência', 'O Senhor dos Anéis: A Sociedade do Anel', 'Três Homens em Conflito']\n"
          ]
        }
      ]
    },
    {
      "cell_type": "markdown",
      "source": [
        "**EXERCÍCIO 2**\n",
        "\n",
        "Aconteceu um erro no seu ranking. Simule a duplicação dos três últimos filmes da lista. Imprima o resultado."
      ],
      "metadata": {
        "id": "hub78SRhD4Ea"
      }
    },
    {
      "cell_type": "code",
      "source": [
        "filmes_dois = [\n",
        "    'Matrix',\n",
        "    'Interestelar',\n",
        "    'Batman: O cavaleiro das trevas',\n",
        "    'O Poderoso Chefão 2',\n",
        "    '12 Homens e uma Sentença',\n",
        "    'A Lista de Schindler',\n",
        "    'O Senhor dos Anéis: O Retorno do Rei',\n",
        "    'Pulp Fiction: Tempo de Violência',\n",
        "    'O Senhor dos Anéis: A Sociedade do Anel',\n",
        "    'Três Homens em Conflito',\n",
        "    'Pulp Fiction: Tempo de Violência',\n",
        "    'O Senhor dos Anéis: A Sociedade do Anel',\n",
        "    'Três Homens em Conflito'\n",
        "]\n",
        "\n",
        "print(filmes_dois)"
      ],
      "metadata": {
        "colab": {
          "base_uri": "https://localhost:8080/"
        },
        "id": "l73pB5zoGDfX",
        "outputId": "f268f905-a524-45f0-87cd-8eb0172e0fbc"
      },
      "execution_count": 17,
      "outputs": [
        {
          "output_type": "stream",
          "name": "stdout",
          "text": [
            "['Matrix', 'Interestelar', 'Batman: O cavaleiro das trevas', 'O Poderoso Chefão 2', '12 Homens e uma Sentença', 'A Lista de Schindler', 'O Senhor dos Anéis: O Retorno do Rei', 'Pulp Fiction: Tempo de Violência', 'O Senhor dos Anéis: A Sociedade do Anel', 'Três Homens em Conflito', 'Pulp Fiction: Tempo de Violência', 'O Senhor dos Anéis: A Sociedade do Anel', 'Três Homens em Conflito']\n"
          ]
        }
      ]
    },
    {
      "cell_type": "markdown",
      "source": [
        "Utiliza a conversão set e list para remover os valores duplicados. Imprima o resultado."
      ],
      "metadata": {
        "id": "iVrdYpFxGoRM"
      }
    },
    {
      "cell_type": "code",
      "source": [
        "print(set(filmes_dois))"
      ],
      "metadata": {
        "colab": {
          "base_uri": "https://localhost:8080/"
        },
        "id": "dEC5Y4iBGpOq",
        "outputId": "2d1faf54-1a82-4794-f5f2-ff0a21f45b7d"
      },
      "execution_count": 18,
      "outputs": [
        {
          "output_type": "stream",
          "name": "stdout",
          "text": [
            "{'Pulp Fiction: Tempo de Violência', 'A Lista de Schindler', 'O Senhor dos Anéis: A Sociedade do Anel', 'Interestelar', 'Matrix', 'O Senhor dos Anéis: O Retorno do Rei', '12 Homens e uma Sentença', 'Batman: O cavaleiro das trevas', 'O Poderoso Chefão 2', 'Três Homens em Conflito'}\n"
          ]
        }
      ]
    },
    {
      "cell_type": "markdown",
      "source": [
        "**EXERCÍCIO 3**\n",
        "Repita os exercícios da parte 1 (listas). Os elementos da lista filmes devem ser dicionários no seguinte formato: {'nome': <nome-do-filme>, 'ano': <ano do filme>, 'sinopse': <sinopse do filme>}.\n"
      ],
      "metadata": {
        "id": "JNhewEziHTTv"
      }
    },
    {
      "cell_type": "code",
      "source": [
        "filmes = {\n",
        "    'Primeiro Filme': {\n",
        "        'Nome': '<Um Sonho de Liberdade>',\n",
        "        'Ano de Lançamento': 1994,\n",
        "        'Sinopse': \"Dois homens presos se reúnem ao longo de vários anos, encontrando consolo e eventual redenção através de atos de decência comum.\"\n",
        "    },\n",
        "    'Segundo Filme': {\n",
        "        'Nome': '<O Poderoso Chefão>',\n",
        "        'Ano de Lançamento': 1972,\n",
        "        'Sinopse': \"O patriarca idoso de uma dinastia do crime organizado transfere o controle de seu império clandestino para seu filho relutante.\"\n",
        "    },\n",
        "    'Terceiro Filme': {\n",
        "        'Nome': '<Batman: O Cavaleiro das Trevas>',\n",
        "        'Ano de Lançamento': 2008,\n",
        "        'Sinopse': \"Quando a ameaça conhecida como O Coringa surge de seu passado, causa estragos e caos nas pessoas de Gotham. O Cavaleiro das Trevas deve aceitar um dos maiores testes para combater a injustiça.\"\n",
        "    },\n",
        "    'Quarto Filme': {\n",
        "        'Nome': '<O Poderoso Chefão II>',\n",
        "        'Ano de Lançamento': 1974,\n",
        "        'Sinopse': \"Em 1950, Michael Corleone, agora à frente da família, tenta expandir o negócio do crime a Las Vegas, Los Angeles e Cuba. Paralelamente, é revelada a história de Vito Corleone, e de como saiu da Sicília e chegou a Nova Iorque.\"\n",
        "    },\n",
        "    'Quinto Filme': {\n",
        "        'Nome': '<12 Homens e uma Sentença>',\n",
        "        'Ano de Lançamento': 1957,\n",
        "        'Sinopse': \"O julgamento de um assassinato em Nova Iorque é frustrado por um único membro, cujo ceticismo força o júri a considerar cuidadosamente as evidências antes de dar o veredito.\"\n",
        "    },\n",
        "    'Sexto Filme': {\n",
        "        'Nome': '<A Lista de Schindler>',\n",
        "        'Ano de Lançamento': 1993,\n",
        "        'Sinopse': \"Na Polônia ocupada pelos alemães durante a Segunda Guerra Mundial, o industrial Oskar Schindler começa a ser preocupar com seus trabalhadores judeus depois de testemunhar sua perseguição pelos nazistas.\"\n",
        "    },\n",
        "    'Sétimo Filme': {\n",
        "        'Nome': '<O Senhor dos Anéis: O Retorno do Rei>',\n",
        "        'Ano de Lançamento': 1993,\n",
        "        'Sinopse': \"Gandalf e Aragorn lideram o Mundo dos Homens contra o exército de Sauron para desviar o olhar de Frodo e Sam quando eles se aproximam á Montanha da Perdição com o Um Anel.\"\n",
        "    },\n",
        "    'Oitavo Filme': {\n",
        "        'Nome': '<Pulp Fiction - Tempo de Violência>',\n",
        "        'Ano de Lançamento': 1994,\n",
        "        'Sinopse': \"As vidas de dois assassinos da máfia, um boxeador, um gângster e sua esposa, e um par de bandidos se entrelaçam em quatro histórias de violência e redenção.\"\n",
        "    },\n",
        "    'Nono Filme': {\n",
        "        'Nome': '<O Senhor dos Anéis: A Sociedade do Anel>',\n",
        "        'Ano de Lançamento': 2001,\n",
        "        'Sinopse': \"Um manso hobbit do Condado e oito companheiros partem em uma jornada para destruir o poderoso Um Anel e salvar a Terra-média das Trevas.\"\n",
        "    },\n",
        "    'Décimo Filme': {\n",
        "        'Nome': '<Três Homens em Conflito>',\n",
        "        'Ano de Lançamento': 1996,\n",
        "        'Sinopse': \"Um impostor se junta com dois homens para encontrar fortuna num remoto cemitério.\"\n",
        "    },\n",
        "}\n",
        "\n",
        "print(filmes)"
      ],
      "metadata": {
        "colab": {
          "base_uri": "https://localhost:8080/"
        },
        "id": "IdPJq4UZKokB",
        "outputId": "6721dc33-0226-49f6-a760-711e364bd09a"
      },
      "execution_count": 59,
      "outputs": [
        {
          "output_type": "stream",
          "name": "stdout",
          "text": [
            "{'Primeiro Filme': {'Nome': '<Um Sonho de Liberdade>', 'Ano de Lançamento': 1994, 'Sinopse': 'Dois homens presos se reúnem ao longo de vários anos, encontrando consolo e eventual redenção através de atos de decência comum.'}, 'Segundo Filme': {'Nome': '<O Poderoso Chefão>', 'Ano de Lançamento': 1972, 'Sinopse': 'O patriarca idoso de uma dinastia do crime organizado transfere o controle de seu império clandestino para seu filho relutante.'}, 'Terceiro Filme': {'Nome': '<Batman: O Cavaleiro das Trevas>', 'Ano de Lançamento': 2008, 'Sinopse': 'Quando a ameaça conhecida como O Coringa surge de seu passado, causa estragos e caos nas pessoas de Gotham. O Cavaleiro das Trevas deve aceitar um dos maiores testes para combater a injustiça.'}, 'Quarto Filme': {'Nome': '<O Poderoso Chefão II>', 'Ano de Lançamento': 1974, 'Sinopse': 'Em 1950, Michael Corleone, agora à frente da família, tenta expandir o negócio do crime a Las Vegas, Los Angeles e Cuba. Paralelamente, é revelada a história de Vito Corleone, e de como saiu da Sicília e chegou a Nova Iorque.'}, 'Quinto Filme': {'Nome': '<12 Homens e uma Sentença>', 'Ano de Lançamento': 1957, 'Sinopse': 'O julgamento de um assassinato em Nova Iorque é frustrado por um único membro, cujo ceticismo força o júri a considerar cuidadosamente as evidências antes de dar o veredito.'}, 'Sexto Filme': {'Nome': '<A Lista de Schindler>', 'Ano de Lançamento': 1993, 'Sinopse': 'Na Polônia ocupada pelos alemães durante a Segunda Guerra Mundial, o industrial Oskar Schindler começa a ser preocupar com seus trabalhadores judeus depois de testemunhar sua perseguição pelos nazistas.'}, 'Sétimo Filme': {'Nome': '<O Senhor dos Anéis: O Retorno do Rei>', 'Ano de Lançamento': 1993, 'Sinopse': 'Gandalf e Aragorn lideram o Mundo dos Homens contra o exército de Sauron para desviar o olhar de Frodo e Sam quando eles se aproximam á Montanha da Perdição com o Um Anel.'}, 'Oitavo Filme': {'Nome': '<Pulp Fiction - Tempo de Violência>', 'Ano de Lançamento': 1994, 'Sinopse': 'As vidas de dois assassinos da máfia, um boxeador, um gângster e sua esposa, e um par de bandidos se entrelaçam em quatro histórias de violência e redenção.'}, 'Nono Filme': {'Nome': '<O Senhor dos Anéis: A Sociedade do Anel>', 'Ano de Lançamento': 2001, 'Sinopse': 'Um manso hobbit do Condado e oito companheiros partem em uma jornada para destruir o poderoso Um Anel e salvar a Terra-média das Trevas.'}, 'Décimo Filme': {'Nome': '<Três Homens em Conflito>', 'Ano de Lançamento': 1996, 'Sinopse': 'Um impostor se junta com dois homens para encontrar fortuna num remoto cemitério.'}}\n"
          ]
        }
      ]
    }
  ]
}