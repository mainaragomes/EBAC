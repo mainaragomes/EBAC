{
  "cells": [
    {
      "cell_type": "markdown",
      "metadata": {
        "id": "tIi1XW4yTl3s"
      },
      "source": [
        "Faça um programa que calcule o valor total investido por um colecionador em sua coleção de CDs e o valor médio gasto em cada um deles. O usuário deverá informar a quantidade de CDs e o valor para cada um."
      ]
    },
    {
      "cell_type": "code",
      "execution_count": 1,
      "metadata": {
        "colab": {
          "base_uri": "https://localhost:8080/"
        },
        "id": "cRfPq4feXZXC",
        "outputId": "851e3184-7bc6-4143-89d2-e2704c47304b"
      },
      "outputs": [
        {
          "name": "stdout",
          "output_type": "stream",
          "text": [
            "Preço total: R$30.00\n",
            "Média de custo por CD: R$6.00\n"
          ]
        }
      ],
      "source": [
        "cds = int(input(\"Digite a quantidade de CDs: \"))\n",
        "\n",
        "preco = 0\n",
        "\n",
        "for i in range(cds):\n",
        "\n",
        "    preco += float(input(f\"Digite o preço do CD {i+1}: \"))\n",
        "\n",
        "print(f\"Preço total: R${preco:.2f}\\nMédia de custo por CD: R${preco/cds:.2f}\")"
      ]
    }
  ],
  "metadata": {
    "colab": {
      "provenance": []
    },
    "kernelspec": {
      "display_name": "Python 3",
      "name": "python3"
    },
    "language_info": {
      "codemirror_mode": {
        "name": "ipython",
        "version": 3
      },
      "file_extension": ".py",
      "mimetype": "text/x-python",
      "name": "python",
      "nbconvert_exporter": "python",
      "pygments_lexer": "ipython3",
      "version": "3.12.4"
    }
  },
  "nbformat": 4,
  "nbformat_minor": 0
}
