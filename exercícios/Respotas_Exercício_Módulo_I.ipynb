{
  "nbformat": 4,
  "nbformat_minor": 0,
  "metadata": {
    "colab": {
      "provenance": [],
      "toc_visible": true
    },
    "kernelspec": {
      "name": "python3",
      "display_name": "Python 3"
    },
    "language_info": {
      "name": "python"
    }
  },
  "cells": [
    {
      "cell_type": "markdown",
      "source": [
        "## **Exercício 1**\n"
      ],
      "metadata": {
        "id": "_8yyo5F-Zrps"
      }
    },
    {
      "cell_type": "code",
      "source": [
        "print(\"Olá, Mundo!\")"
      ],
      "metadata": {
        "colab": {
          "base_uri": "https://localhost:8080/"
        },
        "id": "WT1A_lWWVxwG",
        "outputId": "2c352b7a-2164-48f0-de00-6dc74577d392"
      },
      "execution_count": null,
      "outputs": [
        {
          "output_type": "stream",
          "name": "stdout",
          "text": [
            "Olá, Mundo!\n"
          ]
        }
      ]
    },
    {
      "cell_type": "markdown",
      "source": [
        "![baixados.png](data:image/png;base64,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)"
      ],
      "metadata": {
        "id": "J-fEW6JjV6Gb"
      }
    },
    {
      "cell_type": "markdown",
      "source": [
        "## **Exercício 2**"
      ],
      "metadata": {
        "id": "WMwe9ovhZzJy"
      }
    },
    {
      "cell_type": "markdown",
      "source": [
        "![image.png](data:image/png;base64,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)"
      ],
      "metadata": {
        "id": "ooAcNVSZWaHd"
      }
    },
    {
      "cell_type": "code",
      "source": [
        "qtde_vendas_19 = 3\n",
        "ticket_dia_19 = 350.52\n",
        "\n",
        "vtv_19 = ticket_dia_19 * qtde_vendas_19\n",
        "print(vtv_19)"
      ],
      "metadata": {
        "colab": {
          "base_uri": "https://localhost:8080/"
        },
        "id": "6asU1t0xXbbn",
        "outputId": "9e1d95f0-c0ee-4fd1-95ae-5495d3cf2255"
      },
      "execution_count": null,
      "outputs": [
        {
          "output_type": "stream",
          "name": "stdout",
          "text": [
            "1051.56\n"
          ]
        }
      ]
    },
    {
      "cell_type": "code",
      "source": [
        "vtv_20 = 834.47\n",
        "ticket_dia_20 = 119.21\n",
        "\n",
        "qtde_vendas_20 = vtv_20 // ticket_dia_20\n",
        "print(qtde_vendas_20)"
      ],
      "metadata": {
        "colab": {
          "base_uri": "https://localhost:8080/"
        },
        "id": "C_cOXVNcY9KF",
        "outputId": "a8c1cdbc-ed11-433c-88d7-1ec015d4cd5d"
      },
      "execution_count": 32,
      "outputs": [
        {
          "output_type": "stream",
          "name": "stdout",
          "text": [
            "7.0\n"
          ]
        }
      ]
    },
    {
      "cell_type": "code",
      "source": [
        "vtv_23 = 15378.12\n",
        "qtde_vendas_23 = 5\n",
        "\n",
        "ticket_dia_23 = vtv_23 / qtde_vendas_23\n",
        "print(ticket_dia_23)"
      ],
      "metadata": {
        "colab": {
          "base_uri": "https://localhost:8080/"
        },
        "id": "uiIfQVgkWiP6",
        "outputId": "3d4c0cdb-454f-431c-d6cb-49ba0111104e"
      },
      "execution_count": null,
      "outputs": [
        {
          "output_type": "stream",
          "name": "stdout",
          "text": [
            "3075.6240000000003\n"
          ]
        }
      ]
    },
    {
      "cell_type": "markdown",
      "source": [
        "## **Exercício 3**"
      ],
      "metadata": {
        "id": "gVGuwqaHaJGe"
      }
    },
    {
      "cell_type": "markdown",
      "source": [
        "3.1"
      ],
      "metadata": {
        "id": "d4QIoQgEcAsF"
      }
    },
    {
      "cell_type": "code",
      "source": [
        "cancao = 'Roda mundo, roda gigante, roda moinho, roda pião.'\n",
        "\n",
        "cancao2 = cancao.upper()\n",
        "print(cancao2)"
      ],
      "metadata": {
        "colab": {
          "base_uri": "https://localhost:8080/"
        },
        "id": "AT9qxPhlaNx4",
        "outputId": "070c774a-3aca-475b-f3c8-347d4f4da7a6"
      },
      "execution_count": null,
      "outputs": [
        {
          "output_type": "stream",
          "name": "stdout",
          "text": [
            "RODA MUNDO, RODA GIGANTE, RODA MOINHO, RODA PIÃO.\n"
          ]
        }
      ]
    },
    {
      "cell_type": "code",
      "source": [
        "posicao = cancao.find(\"mundo\")\n",
        "print(posicao)\n"
      ],
      "metadata": {
        "colab": {
          "base_uri": "https://localhost:8080/"
        },
        "id": "NjHG5Lr-a4qC",
        "outputId": "dcc9c1ed-4741-4278-d43e-7541d2953c1e"
      },
      "execution_count": null,
      "outputs": [
        {
          "output_type": "stream",
          "name": "stdout",
          "text": [
            "5\n"
          ]
        }
      ]
    },
    {
      "cell_type": "code",
      "source": [
        "substituir = cancao.replace('Roda' , 'roda')\n",
        "print(substituir)"
      ],
      "metadata": {
        "colab": {
          "base_uri": "https://localhost:8080/"
        },
        "id": "hTuseQmzbhyl",
        "outputId": "fbdb0d12-3a2e-4ca7-8917-1a0e133b3d37"
      },
      "execution_count": null,
      "outputs": [
        {
          "output_type": "stream",
          "name": "stdout",
          "text": [
            "roda mundo, roda gigante, roda moinho, roda pião.\n"
          ]
        }
      ]
    },
    {
      "cell_type": "markdown",
      "source": [
        "3.2"
      ],
      "metadata": {
        "id": "7HPQADFbcErI"
      }
    },
    {
      "cell_type": "code",
      "source": [
        "noticia = 'Selic vai a 2,75% e supera expectativas; é a primeira alta em 6 anos.'"
      ],
      "metadata": {
        "id": "5zZqrOAPeEfG"
      },
      "execution_count": null,
      "outputs": []
    },
    {
      "cell_type": "code",
      "source": [
        "selic = noticia[11:17]\n",
        "print(selic)"
      ],
      "metadata": {
        "colab": {
          "base_uri": "https://localhost:8080/"
        },
        "id": "7Wot2YyEeJLx",
        "outputId": "b6ee20e7-227d-4a91-f0d8-f493a9df7fca"
      },
      "execution_count": null,
      "outputs": [
        {
          "output_type": "stream",
          "name": "stdout",
          "text": [
            " 2,75%\n"
          ]
        }
      ]
    },
    {
      "cell_type": "code",
      "source": [
        "ano = noticia[62]\n",
        "print(ano)"
      ],
      "metadata": {
        "colab": {
          "base_uri": "https://localhost:8080/"
        },
        "id": "Zu0suZgNebWF",
        "outputId": "b5386d80-0f44-41fb-fe8e-a418cfa5251c"
      },
      "execution_count": null,
      "outputs": [
        {
          "output_type": "stream",
          "name": "stdout",
          "text": [
            "6\n"
          ]
        }
      ]
    },
    {
      "cell_type": "markdown",
      "source": [
        "## **Exercício 4**"
      ],
      "metadata": {
        "id": "1tsjt-aLey32"
      }
    },
    {
      "cell_type": "code",
      "source": [
        "a = False\n",
        "b = True\n",
        "\n",
        "x = not a & b\n",
        "\n",
        "print(x)"
      ],
      "metadata": {
        "colab": {
          "base_uri": "https://localhost:8080/"
        },
        "id": "XRgxTfPrfORJ",
        "outputId": "1d4f6001-e886-4141-e040-1f76101e8224"
      },
      "execution_count": 41,
      "outputs": [
        {
          "output_type": "stream",
          "name": "stdout",
          "text": [
            "True\n"
          ]
        }
      ]
    }
  ]
}